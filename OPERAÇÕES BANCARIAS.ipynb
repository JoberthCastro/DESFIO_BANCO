{
 "cells": [
  {
   "cell_type": "markdown",
   "id": "e40644c3-d43c-47d6-9e2b-bdabe74f4f0b",
   "metadata": {},
   "source": [
    "# DESAFIO:\r\n",
    "\n",
    "Fomos contratados por um grande banco para desenvolver o seu novo sistema. Esse banco deseja modernizar suas operações e para isso escolheu a linguagem Python. Para a primeira versão do sistema devemos implementar apenas 3 operações: depósito, saque e extrato."
   ]
  },
  {
   "cell_type": "markdown",
   "id": "d6ce62c0-63ee-46bc-9fb0-c1afae64d80c",
   "metadata": {},
   "source": [
    "## Versão 1: Operação de depósito\r\n",
    "Deve ser possível depositar valores positivos para a minha conta bancária. A v1 do projeto trabalha apenas com 1 usuário, dessa forma não precisamos nos preocupar em identificar qual é o número da agência e conta bancária. Todos os depósitos devem ser armazenados em uma variável e exibidos na operação de extrato."
   ]
  },
  {
   "cell_type": "markdown",
   "id": "1411a0d0-2698-40cb-8964-13099abdb82c",
   "metadata": {},
   "source": [
    "### Operação de saque \r\n",
    "O sistema deve permitir realizar 3 saques diários com limite máximo de R$ 500,00 por saque. Caso o usuário não tenha saldo em conta, o sistema deve exibir uma mensagem informando que não será possível sacar o dinheiro por falta de saldo. Todos os saques devem ser armazenados em uma variável e exibidos na operação de extrato\n",
    "\n",
    "### Operação de extrato\r\n",
    "Essa operação deve listar todos os depósitos e saques realizados na conta. No fim da listagem deve ser exibido o saldo atual da conta. Os valores devem ser exibidos utilizando o formato R$ xxx.xx, exemplo:\r\n",
    "\r\n",
    "1500.45 = R$ 1500.45."
   ]
  },
  {
   "cell_type": "code",
   "execution_count": 17,
   "id": "5cd64bba-36ff-4522-b205-96a8eb2e07ae",
   "metadata": {},
   "outputs": [
    {
     "name": "stdout",
     "output_type": "stream",
     "text": [
      "\n",
      "Escolha a operação:\n",
      "1 - Saque\n",
      "2 - Depósito\n",
      "3 - Extrato\n",
      "0 - Sair\n"
     ]
    },
    {
     "name": "stdin",
     "output_type": "stream",
     "text": [
      "Digite a opção desejada:  1\n",
      "Digite o valor do saque (ou 0 para sair):  300\n"
     ]
    },
    {
     "name": "stdout",
     "output_type": "stream",
     "text": [
      "Saque realizado com sucesso!\n",
      "Saldo atual: R$ 700.00\n",
      "Saques restantes hoje: 2\n"
     ]
    },
    {
     "name": "stdin",
     "output_type": "stream",
     "text": [
      "Digite o valor do saque (ou 0 para sair):  400\n"
     ]
    },
    {
     "name": "stdout",
     "output_type": "stream",
     "text": [
      "Saque realizado com sucesso!\n",
      "Saldo atual: R$ 300.00\n",
      "Saques restantes hoje: 1\n"
     ]
    },
    {
     "name": "stdin",
     "output_type": "stream",
     "text": [
      "Digite o valor do saque (ou 0 para sair):  0\n"
     ]
    },
    {
     "name": "stdout",
     "output_type": "stream",
     "text": [
      "Operação encerrada.\n",
      "\n",
      "Escolha a operação:\n",
      "1 - Saque\n",
      "2 - Depósito\n",
      "3 - Extrato\n",
      "0 - Sair\n"
     ]
    },
    {
     "name": "stdin",
     "output_type": "stream",
     "text": [
      "Digite a opção desejada:  3\n"
     ]
    },
    {
     "name": "stdout",
     "output_type": "stream",
     "text": [
      "\n",
      "Extrato da conta:\n",
      "Saque: R$ 300.00\n",
      "Saque: R$ 400.00\n",
      "Saldo atual: R$ 300.00\n",
      "\n",
      "\n",
      "Escolha a operação:\n",
      "1 - Saque\n",
      "2 - Depósito\n",
      "3 - Extrato\n",
      "0 - Sair\n"
     ]
    },
    {
     "name": "stdin",
     "output_type": "stream",
     "text": [
      "Digite a opção desejada:  2\n",
      "Digite o valor do depósito:  1500\n"
     ]
    },
    {
     "name": "stdout",
     "output_type": "stream",
     "text": [
      "Depósito realizado com sucesso!\n",
      "Saldo atual: R$ 1800.00\n",
      "\n",
      "Escolha a operação:\n",
      "1 - Saque\n",
      "2 - Depósito\n",
      "3 - Extrato\n",
      "0 - Sair\n"
     ]
    },
    {
     "name": "stdin",
     "output_type": "stream",
     "text": [
      "Digite a opção desejada:  1\n",
      "Digite o valor do saque (ou 0 para sair):  500\n"
     ]
    },
    {
     "name": "stdout",
     "output_type": "stream",
     "text": [
      "Saque realizado com sucesso!\n",
      "Saldo atual: R$ 1300.00\n",
      "Saques restantes hoje: 0\n",
      "Você atingiu o número máximo de saques diários!\n",
      "\n",
      "Escolha a operação:\n",
      "1 - Saque\n",
      "2 - Depósito\n",
      "3 - Extrato\n",
      "0 - Sair\n"
     ]
    },
    {
     "name": "stdin",
     "output_type": "stream",
     "text": [
      "Digite a opção desejada:  1\n"
     ]
    },
    {
     "name": "stdout",
     "output_type": "stream",
     "text": [
      "Você atingiu o número máximo de saques diários!\n",
      "\n",
      "Escolha a operação:\n",
      "1 - Saque\n",
      "2 - Depósito\n",
      "3 - Extrato\n",
      "0 - Sair\n"
     ]
    },
    {
     "name": "stdin",
     "output_type": "stream",
     "text": [
      "Digite a opção desejada:  3\n"
     ]
    },
    {
     "name": "stdout",
     "output_type": "stream",
     "text": [
      "\n",
      "Extrato da conta:\n",
      "Saque: R$ 300.00\n",
      "Saque: R$ 400.00\n",
      "Depósito: R$ 1500.00\n",
      "Saque: R$ 500.00\n",
      "Saldo atual: R$ 1300.00\n",
      "\n",
      "\n",
      "Escolha a operação:\n",
      "1 - Saque\n",
      "2 - Depósito\n",
      "3 - Extrato\n",
      "0 - Sair\n"
     ]
    },
    {
     "name": "stdin",
     "output_type": "stream",
     "text": [
      "Digite a opção desejada:  0\n"
     ]
    },
    {
     "name": "stdout",
     "output_type": "stream",
     "text": [
      "Operação encerrada.\n"
     ]
    }
   ],
   "source": [
    "numero_saques = 3\n",
    "limite = 500\n",
    "saldo = 1000  # Saldo inicial\n",
    "transacoes = []  # Lista para armazenar transações\n",
    "\n",
    "def caixa_eletronico():\n",
    "    global saldo, numero_saques\n",
    "    \n",
    "    while numero_saques > 0:\n",
    "        valor = float(input(\"Digite o valor do saque (ou 0 para sair): \"))\n",
    "        \n",
    "        if valor == 0:\n",
    "            print(\"Operação encerrada.\")\n",
    "            break\n",
    "        \n",
    "        if valor > saldo:\n",
    "            print(\"Saldo insuficiente!\")\n",
    "        elif valor > limite:\n",
    "            print(f\"O limite por saque é de R$ {limite:.2f}\")\n",
    "        elif valor <= 0:\n",
    "            print(\"Valor inválido! Insira um valor positivo.\")\n",
    "        else:\n",
    "            saldo -= valor\n",
    "            numero_saques -= 1\n",
    "            transacoes.append(f\"Saque: R$ {valor:.2f}\")\n",
    "            print(\"Saque realizado com sucesso!\")\n",
    "            print(f\"Saldo atual: R$ {saldo:.2f}\")\n",
    "            print(f\"Saques restantes hoje: {numero_saques}\")\n",
    "    \n",
    "    if numero_saques == 0:\n",
    "        print(\"Você atingiu o número máximo de saques diários!\")\n",
    "\n",
    "def deposito():\n",
    "    global saldo\n",
    "    \n",
    "    valor = float(input(\"Digite o valor do depósito: \"))\n",
    "    if valor <= 0:\n",
    "        print(\"Valor inválido! Insira um valor positivo.\")\n",
    "    else:\n",
    "        saldo += valor\n",
    "        transacoes.append(f\"Depósito: R$ {valor:.2f}\")\n",
    "        print(\"Depósito realizado com sucesso!\")\n",
    "        print(f\"Saldo atual: R$ {saldo:.2f}\")\n",
    "\n",
    "def extrato():\n",
    "    print(\"\\nExtrato da conta:\")\n",
    "    if not transacoes:\n",
    "        print(\"Nenhuma transação realizada.\")\n",
    "    else:\n",
    "        for transacao in transacoes:\n",
    "            print(transacao)\n",
    "    print(f\"Saldo atual: R$ {saldo:.2f}\\n\")\n",
    "\n",
    "# Executando as operações\n",
    "while True:\n",
    "    print(\"\\nEscolha a operação:\")\n",
    "    print(\"1 - Saque\")\n",
    "    print(\"2 - Depósito\")\n",
    "    print(\"3 - Extrato\")\n",
    "    print(\"0 - Sair\")\n",
    "    opcao = input(\"Digite a opção desejada: \")\n",
    "    \n",
    "    if opcao == \"1\":\n",
    "        saque()\n",
    "    elif opcao == \"2\":\n",
    "        deposito()\n",
    "    elif opcao == \"3\":\n",
    "        extrato()\n",
    "    elif opcao == \"0\":\n",
    "        print(\"Operação encerrada.\")\n",
    "        break\n",
    "    else:\n",
    "        print(\"Opção inválida! Tente novamente.\")\n"
   ]
  },
  {
   "cell_type": "code",
   "execution_count": null,
   "id": "989aaff5-4780-4e0e-8d2c-daaddd427cf5",
   "metadata": {},
   "outputs": [],
   "source": []
  }
 ],
 "metadata": {
  "kernelspec": {
   "display_name": "Python 3 (ipykernel)",
   "language": "python",
   "name": "python3"
  },
  "language_info": {
   "codemirror_mode": {
    "name": "ipython",
    "version": 3
   },
   "file_extension": ".py",
   "mimetype": "text/x-python",
   "name": "python",
   "nbconvert_exporter": "python",
   "pygments_lexer": "ipython3",
   "version": "3.11.7"
  }
 },
 "nbformat": 4,
 "nbformat_minor": 5
}
